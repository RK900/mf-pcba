{
 "cells": [
  {
   "cell_type": "code",
   "execution_count": 5,
   "metadata": {},
   "outputs": [],
   "source": [
    "import numpy as np\n",
    "import pandas as pd\n",
    "import glob\n",
    "import json\n",
    "import os\n",
    "from pathlib import Path\n",
    "from rdkit import Chem\n",
    "from tqdm.auto import tqdm"
   ]
  },
  {
   "cell_type": "code",
   "execution_count": 2,
   "metadata": {},
   "outputs": [],
   "source": [
    "# From https://stackoverflow.com/questions/38250710/how-to-split-data-into-3-sets-train-validation-and-test\n",
    "def train_validate_test_split(df, train_percent=.6, validate_percent=.2, seed=None):\n",
    "    np.random.seed(seed)\n",
    "    perm = np.random.permutation(df.index)\n",
    "    m = len(df.index)\n",
    "    train_end = int(train_percent * m)\n",
    "    validate_end = int(validate_percent * m) + train_end\n",
    "    train = df.iloc[perm[:train_end]]\n",
    "    validate = df.iloc[perm[train_end:validate_end]]\n",
    "    test = df.iloc[perm[validate_end:]]\n",
    "    return train, validate, test"
   ]
  },
  {
   "cell_type": "code",
   "execution_count": 3,
   "metadata": {},
   "outputs": [],
   "source": [
    "with open('MF_PCBA_random_seeds.json', 'r') as f:\n",
    "    random_seeds = json.load(f)"
   ]
  },
  {
   "cell_type": "code",
   "execution_count": 8,
   "metadata": {},
   "outputs": [],
   "source": [
    "NAME = '504329'\n",
    "SAVE_PATH = 'train_val_test_splits'\n",
    "\n",
    "df = pd.read_csv(f'retrieved/AID{NAME}/SD.csv')\n",
    "seeds = random_seeds[NAME]\n",
    "\n",
    "for j, s in enumerate(seeds):\n",
    "    train, validate, test = train_validate_test_split(df, train_percent=.8, validate_percent=.1, seed=s)\n",
    "\n",
    "    save_dirpath = os.path.join(SAVE_PATH, NAME, str(j))\n",
    "    Path(save_dirpath).mkdir(exist_ok=True, parents=True)\n",
    "\n",
    "    train.to_csv(f'{save_dirpath}/train.csv', index=False)\n",
    "    validate.to_csv(f'{save_dirpath}/validate.csv', index=False)\n",
    "    test.to_csv(f'{save_dirpath}/test.csv', index=False)"
   ]
  },
  {
   "cell_type": "code",
   "execution_count": null,
   "metadata": {},
   "outputs": [],
   "source": []
  }
 ],
 "metadata": {
  "kernelspec": {
   "display_name": "torch-geometric-2",
   "language": "python",
   "name": "torch-geometric-2"
  },
  "language_info": {
   "codemirror_mode": {
    "name": "ipython",
    "version": 3
   },
   "file_extension": ".py",
   "mimetype": "text/x-python",
   "name": "python",
   "nbconvert_exporter": "python",
   "pygments_lexer": "ipython3",
   "version": "3.9.7"
  },
  "orig_nbformat": 4,
  "vscode": {
   "interpreter": {
    "hash": "93dbc50dfe00e55eb038e165c383af2620b967d0e0ec5b60037f5432445ecae2"
   }
  }
 },
 "nbformat": 4,
 "nbformat_minor": 2
}
