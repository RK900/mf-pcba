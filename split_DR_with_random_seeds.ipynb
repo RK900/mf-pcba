{
 "cells": [
  {
   "cell_type": "code",
   "execution_count": 1,
   "metadata": {},
   "outputs": [],
   "source": [
    "import numpy as np\n",
    "import pandas as pd\n",
    "import glob\n",
    "import json\n",
    "import os\n",
    "from pathlib import Path\n",
    "from rdkit import Chem\n",
    "from tqdm.auto import tqdm"
   ]
  },
  {
   "cell_type": "code",
   "execution_count": 3,
   "metadata": {},
   "outputs": [],
   "source": [
    "with open('random_seeds/MF_PCBA_random_seeds.json', 'r') as f:\n",
    "    random_seeds = json.load(f)"
   ]
  },
  {
   "cell_type": "code",
   "execution_count": 2,
   "metadata": {},
   "outputs": [],
   "source": [
    "# From https://stackoverflow.com/questions/38250710/how-to-split-data-into-3-sets-train-validation-and-test\n",
    "def train_validate_test_split(df, train_percent=.8, validate_percent=.1, seed=None):\n",
    "    np.random.seed(seed)\n",
    "    perm = np.random.permutation(df.index)\n",
    "    m = len(df.index)\n",
    "    train_end = int(train_percent * m)\n",
    "    validate_end = int(validate_percent * m) + train_end\n",
    "    train = df.iloc[perm[:train_end]]\n",
    "    validate = df.iloc[perm[train_end:validate_end]]\n",
    "    test = df.iloc[perm[validate_end:]]\n",
    "    return train, validate, test"
   ]
  },
  {
   "cell_type": "code",
   "execution_count": 7,
   "metadata": {},
   "outputs": [],
   "source": [
    "def split_dr(dataset_path: str, dataset_name:str, save_path: str, is_dr_separate: bool):\n",
    "    def split_dataset(dataframe):\n",
    "        seeds = random_seeds[dataset_name]\n",
    "\n",
    "        for j, s in enumerate(seeds):\n",
    "            train, validate, test = train_validate_test_split(dataframe, train_percent=.8, validate_percent=.1, seed=s)\n",
    "\n",
    "            save_dirpath = os.path.join(save_path, dataset_name, str(j))\n",
    "            Path(save_dirpath).mkdir(exist_ok=True, parents=True)\n",
    "\n",
    "            train.to_csv(f'{save_dirpath}/train.csv', index=False)\n",
    "            validate.to_csv(f'{save_dirpath}/validate.csv', index=False)\n",
    "            test.to_csv(f'{save_dirpath}/test.csv', index=False)\n",
    "\n",
    "    # Main function        \n",
    "    df = pd.read_csv(dataset_path)\n",
    "\n",
    "    if is_dr_separate:\n",
    "        split_dataset(df)\n",
    "    elif not is_dr_separate:\n",
    "        df_dr = df[~df['DR'].isna()].reset_index()\n",
    "        split_dataset(df_dr)"
   ]
  },
  {
   "cell_type": "code",
   "execution_count": 8,
   "metadata": {},
   "outputs": [],
   "source": [
    "split_dr(dataset_path=f'filtered_datasets/AID1445/SD.csv',\n",
    "         dataset_name='1445',\n",
    "         save_path='train_val_test_splits',\n",
    "         is_dr_separate=False)"
   ]
  },
  {
   "cell_type": "code",
   "execution_count": 9,
   "metadata": {},
   "outputs": [],
   "source": [
    "split_dr(dataset_path=f'filtered_datasets/AID624273-588549/DR.csv',\n",
    "         dataset_name='624273-588549',\n",
    "         save_path='train_val_test_splits',\n",
    "         is_dr_separate=True)"
   ]
  },
  {
   "cell_type": "code",
   "execution_count": null,
   "metadata": {},
   "outputs": [],
   "source": []
  }
 ],
 "metadata": {
  "kernelspec": {
   "display_name": "torch-geometric-2",
   "language": "python",
   "name": "python3"
  },
  "language_info": {
   "codemirror_mode": {
    "name": "ipython",
    "version": 3
   },
   "file_extension": ".py",
   "mimetype": "text/x-python",
   "name": "python",
   "nbconvert_exporter": "python",
   "pygments_lexer": "ipython3",
   "version": "3.9.9"
  },
  "orig_nbformat": 4,
  "vscode": {
   "interpreter": {
    "hash": "92c3512d332dfecc446af173ea486b2aef77501f9d1646c0b7132679fcde3a4a"
   }
  }
 },
 "nbformat": 4,
 "nbformat_minor": 2
}
